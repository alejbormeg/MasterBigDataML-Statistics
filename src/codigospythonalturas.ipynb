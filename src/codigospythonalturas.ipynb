{
 "cells": [
  {
   "cell_type": "markdown",
   "id": "3e578d21",
   "metadata": {},
   "source": [
    "# Proyecto Estadística Descriptiva e Inferencia\n",
    "\n",
    "\n",
    "\n",
    "## Ejercicio 1\n",
    "\n",
    "La siguiente tabla contiene, en un editable Excel, dos variables: la primera es dicotómica con valores 1 (predinástico temprano) y 2 (predinástico tardío) y la segunda contiene la anchura de cráneos (mm.) encontrados en un yacimiento arqueológico. La idea es analizar si existen diferencias en la longitud de la anchura de los cráneos egipcios a medida que pasa el tiempo. Creo que mayoritariamente tenemos una idea de que las cabezas egipcias son más alargadas y cuando ya llegamos a los romanos son más redondeadas. El cine se ha encargado de hacer muy gráfico todo esto.\n",
    "\n",
    "Se pide:\n",
    "\n",
    "a) obtener con Python las diferentes medidas de centralización y dispersión, asimetría y curtosis estudiadas. Así mismo, obtener el diagrama de caja y bigotes. Se debe hacer por separado para la sub-muestra de los cráneos del predinástico temprano y para la sub-muestra de los del predinástico tardío. Comentar los resultados obtenidos. Estos comentarios son obligatorios.\n",
    "\n",
    "b) Determinar si cada una de las dos sub-muestras sigue una  distribución normal utilizando el test de Kolmogorov-Smirnov."
   ]
  },
  {
   "cell_type": "code",
   "execution_count": 1,
   "id": "289dbe26",
   "metadata": {},
   "outputs": [],
   "source": [
    "import os\n",
    "import pandas  as pd\n",
    "from datetime import datetime\n",
    "import matplotlib.pyplot as plt\n",
    "import seaborn as sns\n",
    "import warnings\n",
    "import math as mt\n",
    "from scipy.stats import pearsonr\n",
    "\n",
    "sns.set_style('darkgrid')\n",
    "warnings.filterwarnings('ignore')"
   ]
  },
  {
   "cell_type": "markdown",
   "id": "abbb08c1",
   "metadata": {},
   "source": [
    "## Ejercicio 1\n",
    "\n",
    "### Apartado a)"
   ]
  },
  {
   "cell_type": "code",
   "execution_count": 3,
   "id": "25b021a5",
   "metadata": {},
   "outputs": [],
   "source": [
    "df = pd.read_excel('data\\datosejercicioevaluacionanchuras.xlsx')"
   ]
  },
  {
   "cell_type": "code",
   "execution_count": 6,
   "id": "86be5ae6",
   "metadata": {},
   "outputs": [
    {
     "name": "stdout",
     "output_type": "stream",
     "text": [
      "    Época histórica  Anchura del cráneo\n",
      "0                 1                 133\n",
      "1                 1                 131\n",
      "2                 1                 131\n",
      "3                 1                 132\n",
      "4                 1                 134\n",
      "5                 1                 131\n",
      "6                 1                 132\n",
      "7                 1                 132\n",
      "8                 1                 131\n",
      "9                 1                 131\n",
      "10                1                 132\n",
      "11                1                 131\n",
      "12                1                 131\n",
      "13                1                 132\n",
      "14                1                 132\n",
      "15                1                 131\n",
      "16                1                 131\n",
      "17                1                 132\n",
      "18                1                 131\n",
      "19                1                 131\n",
      "20                1                 132\n",
      "21                1                 132\n",
      "22                1                 132\n",
      "23                1                 131\n",
      "24                1                 130\n",
      "25                1                 132\n",
      "26                1                 132\n",
      "27                1                 131\n",
      "28                1                 132\n",
      "29                1                 130\n"
     ]
    }
   ],
   "source": [
    "#muestra de predinastico temprano\n",
    "df_1 = df[df['Época histórica']==1]\n",
    "print(df_1)"
   ]
  },
  {
   "cell_type": "code",
   "execution_count": 7,
   "id": "0bb652d2",
   "metadata": {},
   "outputs": [
    {
     "name": "stdout",
     "output_type": "stream",
     "text": [
      "    Época histórica  Anchura del cráneo\n",
      "30                2                 132\n",
      "31                2                 133\n",
      "32                2                 131\n",
      "33                2                 133\n",
      "34                2                 133\n",
      "35                2                 133\n",
      "36                2                 134\n",
      "37                2                 132\n",
      "38                2                 131\n",
      "39                2                 133\n",
      "40                2                 133\n",
      "41                2                 133\n",
      "42                2                 132\n",
      "43                2                 133\n",
      "44                2                 133\n",
      "45                2                 133\n",
      "46                2                 133\n",
      "47                2                 131\n",
      "48                2                 135\n",
      "49                2                 131\n",
      "50                2                 133\n",
      "51                2                 132\n",
      "52                2                 132\n",
      "53                2                 132\n",
      "54                2                 131\n",
      "55                2                 134\n",
      "56                2                 131\n",
      "57                2                 133\n",
      "58                2                 132\n",
      "59                2                 132\n"
     ]
    }
   ],
   "source": [
    "#muestra de predinastico tardio\n",
    "df_2 = df[df['Época histórica']==2]\n",
    "print(df_2)"
   ]
  },
  {
   "cell_type": "markdown",
   "id": "8ee36460",
   "metadata": {},
   "source": [
    "MEDIDAS DE TENDENCIA CENTRAL - NO CENTRAL - DISPERSION - FORMA - PREDINASTICO TEMPRANO"
   ]
  },
  {
   "cell_type": "code",
   "execution_count": 9,
   "id": "2d52e804",
   "metadata": {},
   "outputs": [],
   "source": [
    "valores_1 = pd.DataFrame(df_1['Anchura del cráneo'].describe())\n",
    "valores_1.reset_index(inplace=True)\n",
    "valores_1.rename(columns={'index':'Medida'},inplace = True)"
   ]
  },
  {
   "cell_type": "code",
   "execution_count": 10,
   "id": "8ef869ab",
   "metadata": {},
   "outputs": [
    {
     "data": {
      "text/html": [
       "<div>\n",
       "<style scoped>\n",
       "    .dataframe tbody tr th:only-of-type {\n",
       "        vertical-align: middle;\n",
       "    }\n",
       "\n",
       "    .dataframe tbody tr th {\n",
       "        vertical-align: top;\n",
       "    }\n",
       "\n",
       "    .dataframe thead th {\n",
       "        text-align: right;\n",
       "    }\n",
       "</style>\n",
       "<table border=\"1\" class=\"dataframe\">\n",
       "  <thead>\n",
       "    <tr style=\"text-align: right;\">\n",
       "      <th></th>\n",
       "      <th>Medida</th>\n",
       "      <th>Anchura del cráneo</th>\n",
       "    </tr>\n",
       "  </thead>\n",
       "  <tbody>\n",
       "    <tr>\n",
       "      <th>0</th>\n",
       "      <td>count</td>\n",
       "      <td>30.000000</td>\n",
       "    </tr>\n",
       "    <tr>\n",
       "      <th>1</th>\n",
       "      <td>mean</td>\n",
       "      <td>131.533333</td>\n",
       "    </tr>\n",
       "    <tr>\n",
       "      <th>2</th>\n",
       "      <td>std</td>\n",
       "      <td>0.819307</td>\n",
       "    </tr>\n",
       "    <tr>\n",
       "      <th>3</th>\n",
       "      <td>min</td>\n",
       "      <td>130.000000</td>\n",
       "    </tr>\n",
       "    <tr>\n",
       "      <th>4</th>\n",
       "      <td>25%</td>\n",
       "      <td>131.000000</td>\n",
       "    </tr>\n",
       "  </tbody>\n",
       "</table>\n",
       "</div>"
      ],
      "text/plain": [
       "  Medida  Anchura del cráneo\n",
       "0  count           30.000000\n",
       "1   mean          131.533333\n",
       "2    std            0.819307\n",
       "3    min          130.000000\n",
       "4    25%          131.000000"
      ]
     },
     "execution_count": 10,
     "metadata": {},
     "output_type": "execute_result"
    }
   ],
   "source": [
    "valores_1.head(5)\n",
    "# Algunas de las medidas de tendencia central - calcularemos las faltantes- "
   ]
  },
  {
   "cell_type": "code",
   "execution_count": 28,
   "id": "e382415b",
   "metadata": {},
   "outputs": [
    {
     "name": "stdout",
     "output_type": "stream",
     "text": [
      "En este caso hay dos modas: \n",
      "0    131\n",
      "1    132\n",
      "Name: Anchura del cráneo, dtype: int64\n"
     ]
    }
   ],
   "source": [
    "#calculo de la moda para grupo 1 (temprano)\n",
    "print(\"En este caso hay dos modas: \")\n",
    "print(df_1['Anchura del cráneo'].mode())\n",
    "\n",
    "moda_1 = df_1['Anchura del cráneo'].mode()[0]\n",
    "moda_2 = df_1['Anchura del cráneo'].mode()[1]"
   ]
  },
  {
   "cell_type": "code",
   "execution_count": 16,
   "id": "d89483ab",
   "metadata": {},
   "outputs": [
    {
     "name": "stdout",
     "output_type": "stream",
     "text": [
      "4\n"
     ]
    }
   ],
   "source": [
    "#calculo del rango (valor maximo - valor minimo)\n",
    "rango = df_1['Anchura del cráneo'].max() - df_1['Anchura del cráneo'].min()\n",
    "print(rango)"
   ]
  },
  {
   "cell_type": "code",
   "execution_count": 17,
   "id": "6d437457",
   "metadata": {},
   "outputs": [
    {
     "name": "stdout",
     "output_type": "stream",
     "text": [
      "0.6712643678160921\n"
     ]
    }
   ],
   "source": [
    "#calculo de la varianza\n",
    "varianza = df_1['Anchura del cráneo'].var()\n",
    "print(varianza)"
   ]
  },
  {
   "cell_type": "code",
   "execution_count": 18,
   "id": "91cb08c3",
   "metadata": {},
   "outputs": [
    {
     "name": "stdout",
     "output_type": "stream",
     "text": [
      "0.006228894440395486\n"
     ]
    }
   ],
   "source": [
    "#calculo del coeficiente de variacion de Pearson -- DESVIACION STANDAR / MEDIA\n",
    "coef_var_P = valores_1.loc[2][1]/valores_1.loc[1][1]\n",
    "print(coef_var_P)"
   ]
  },
  {
   "cell_type": "code",
   "execution_count": 19,
   "id": "d3fec892",
   "metadata": {},
   "outputs": [],
   "source": [
    "#Generacion de columnas de apoyo para el calculo de asimetria y curtosis // resultando en la siguiente tabla\n",
    "df_1['Xi - Media'] = df_1['Anchura del cráneo'] - valores_1.loc[1][1]\n",
    "df_1['(Xi - Media)*3'] = df_1['Xi - Media']**3\n",
    "df_1['(Xi - Media)*4'] = df_1['Xi - Media']**4"
   ]
  },
  {
   "cell_type": "code",
   "execution_count": 20,
   "id": "e28193ff",
   "metadata": {},
   "outputs": [
    {
     "data": {
      "text/html": [
       "<div>\n",
       "<style scoped>\n",
       "    .dataframe tbody tr th:only-of-type {\n",
       "        vertical-align: middle;\n",
       "    }\n",
       "\n",
       "    .dataframe tbody tr th {\n",
       "        vertical-align: top;\n",
       "    }\n",
       "\n",
       "    .dataframe thead th {\n",
       "        text-align: right;\n",
       "    }\n",
       "</style>\n",
       "<table border=\"1\" class=\"dataframe\">\n",
       "  <thead>\n",
       "    <tr style=\"text-align: right;\">\n",
       "      <th></th>\n",
       "      <th>Época histórica</th>\n",
       "      <th>Anchura del cráneo</th>\n",
       "      <th>Xi - Media</th>\n",
       "      <th>(Xi - Media)*3</th>\n",
       "      <th>(Xi - Media)*4</th>\n",
       "    </tr>\n",
       "  </thead>\n",
       "  <tbody>\n",
       "    <tr>\n",
       "      <th>0</th>\n",
       "      <td>1</td>\n",
       "      <td>133</td>\n",
       "      <td>1.466667</td>\n",
       "      <td>3.154963</td>\n",
       "      <td>4.627279</td>\n",
       "    </tr>\n",
       "    <tr>\n",
       "      <th>1</th>\n",
       "      <td>1</td>\n",
       "      <td>131</td>\n",
       "      <td>-0.533333</td>\n",
       "      <td>-0.151704</td>\n",
       "      <td>0.080909</td>\n",
       "    </tr>\n",
       "    <tr>\n",
       "      <th>2</th>\n",
       "      <td>1</td>\n",
       "      <td>131</td>\n",
       "      <td>-0.533333</td>\n",
       "      <td>-0.151704</td>\n",
       "      <td>0.080909</td>\n",
       "    </tr>\n",
       "    <tr>\n",
       "      <th>3</th>\n",
       "      <td>1</td>\n",
       "      <td>132</td>\n",
       "      <td>0.466667</td>\n",
       "      <td>0.101630</td>\n",
       "      <td>0.047427</td>\n",
       "    </tr>\n",
       "    <tr>\n",
       "      <th>4</th>\n",
       "      <td>1</td>\n",
       "      <td>134</td>\n",
       "      <td>2.466667</td>\n",
       "      <td>15.008296</td>\n",
       "      <td>37.020464</td>\n",
       "    </tr>\n",
       "  </tbody>\n",
       "</table>\n",
       "</div>"
      ],
      "text/plain": [
       "   Época histórica  Anchura del cráneo  Xi - Media  (Xi - Media)*3  \\\n",
       "0                1                 133    1.466667        3.154963   \n",
       "1                1                 131   -0.533333       -0.151704   \n",
       "2                1                 131   -0.533333       -0.151704   \n",
       "3                1                 132    0.466667        0.101630   \n",
       "4                1                 134    2.466667       15.008296   \n",
       "\n",
       "   (Xi - Media)*4  \n",
       "0        4.627279  \n",
       "1        0.080909  \n",
       "2        0.080909  \n",
       "3        0.047427  \n",
       "4       37.020464  "
      ]
     },
     "execution_count": 20,
     "metadata": {},
     "output_type": "execute_result"
    }
   ],
   "source": [
    "#tabla de los craneos del periodo temprano // con columnas de apoyo para el calculo de la forma de la distribucion\n",
    "df_1.head(5)"
   ]
  },
  {
   "cell_type": "code",
   "execution_count": 21,
   "id": "ef723b7e",
   "metadata": {},
   "outputs": [],
   "source": [
    "Coef_Fisher=df_1['(Xi - Media)*3'].sum()/((df_1['Época histórica'].count()-1)*mt.pow(valores_1.loc[2][1],3))"
   ]
  },
  {
   "cell_type": "code",
   "execution_count": 22,
   "id": "b268ad7a",
   "metadata": {},
   "outputs": [
    {
     "data": {
      "text/plain": [
       "0.6459405126888941"
      ]
     },
     "execution_count": 22,
     "metadata": {},
     "output_type": "execute_result"
    }
   ],
   "source": [
    "Coef_Fisher\n",
    "# al obteenr un ceficiente de Fisher positivo, esto indica que existe una mayor concentracion de valores a la derecha del eje\n",
    "# de simetria"
   ]
  },
  {
   "cell_type": "code",
   "execution_count": 23,
   "id": "2d0ceb58",
   "metadata": {},
   "outputs": [],
   "source": [
    "coeficiente_Curtosis = df_1['(Xi - Media)*4'].sum()/((df_1['Época histórica'].count()-1)*mt.pow(valores_1.loc[2][1],4)) -3"
   ]
  },
  {
   "cell_type": "code",
   "execution_count": 24,
   "id": "e0b791b9",
   "metadata": {},
   "outputs": [
    {
     "data": {
      "text/plain": [
       "1.1608932257459212"
      ]
     },
     "execution_count": 24,
     "metadata": {},
     "output_type": "execute_result"
    }
   ],
   "source": [
    "coeficiente_Curtosis\n",
    "#el coeficiente de curtosis es mayor que 0 por lo que podemos anticipar una distribucion leptocuritca"
   ]
  },
  {
   "cell_type": "code",
   "execution_count": 25,
   "id": "86c9de48",
   "metadata": {},
   "outputs": [
    {
     "data": {
      "image/png": "[encoded data removed]",
      "text/plain": [
       "<Figure size 640x480 with 1 Axes>"
      ]
     },
     "metadata": {},
     "output_type": "display_data"
    }
   ],
   "source": [
    "sns.histplot(data=df_1['Anchura del cráneo'] )\n",
    "plt.axvline(x=valores_1.loc[5][1], color='red', linestyle='--')\n",
    "plt.title('Histograma - Periodo Temprano')\n",
    "plt.show()"
   ]
  },
  {
   "cell_type": "code",
   "execution_count": 148,
   "id": "9c28c246",
   "metadata": {},
   "outputs": [],
   "source": [
    "#de los coeficientes de FISHER Y CURTOSIS podemos determinar que\n",
    "#del coeficinete de Fisher(-0.162149), la distribucion posee mayor concentracion de valores a la izquierda de  la mediana\n",
    "#ademas el coeficiente de curtosis al ser mayor que 0 (0.5407) nos indica una distribucion leptocuritca valores \n",
    "#muy concnetrados alrededor de la mediana\n",
    "\n",
    "#colocamos el histograma y una linea constante en la mediana, para observar el comportmiento-forma de la distribucion.\n",
    "#evidentenmemente visualizacmos mayor concentracion por debajo de la mediana =134 y una concnetracion de valroes alrededor\n",
    "#de esta"
   ]
  },
  {
   "cell_type": "code",
   "execution_count": 31,
   "id": "d9a8112c",
   "metadata": {},
   "outputs": [
    {
     "name": "stdout",
     "output_type": "stream",
     "text": [
      "                Medida  Anchura del cráneo_moda_1  Anchura del cráneo_moda_2\n",
      "0                 moda                 131.000000                 132.000000\n",
      "1                rango                   4.000000                   4.000000\n",
      "2             varianza                   0.671264                   0.671264\n",
      "3    CoeficientePerson                   0.006229                   0.006229\n",
      "4    CoeficienteFisher                   0.645941                   0.645941\n",
      "5  CoeficienteCurtosis                   1.160893                   1.160893\n"
     ]
    }
   ],
   "source": [
    "Medida = ['moda', 'rango', 'varianza', 'CoeficientePerson', 'CoeficienteFisher', 'CoeficienteCurtosis']\n",
    "Anchura_del_Craneo_moda_1 = [moda_1, rango, varianza, coef_var_P, Coef_Fisher, coeficiente_Curtosis]\n",
    "Anchura_del_Craneo_moda_2 = [moda_2, rango, varianza, coef_var_P, Coef_Fisher, coeficiente_Curtosis]\n",
    "\n",
    "medidas_moda_1 = pd.DataFrame({'Medida': Medida, 'Anchura del cráneo': Anchura_del_Craneo_moda_1})\n",
    "medidas_moda_2 = pd.DataFrame({'Medida': Medida, 'Anchura del cráneo': Anchura_del_Craneo_moda_2})\n",
    "\n",
    "# Merge the DataFrames on the \"Medida\" column\n",
    "merged_df = pd.merge(medidas_moda_1, medidas_moda_2, on='Medida', suffixes=('_moda_1', '_moda_2'))\n",
    "\n",
    "# Print the resulting DataFrame\n",
    "print(merged_df)"
   ]
  },
  {
   "cell_type": "markdown",
   "id": "696ff78e",
   "metadata": {},
   "source": [
    "MEDIDAS PERIODO TEMPRANO"
   ]
  },
  {
   "cell_type": "code",
   "execution_count": 34,
   "id": "899a092a",
   "metadata": {},
   "outputs": [
    {
     "data": {
      "text/html": [
       "<div>\n",
       "<style scoped>\n",
       "    .dataframe tbody tr th:only-of-type {\n",
       "        vertical-align: middle;\n",
       "    }\n",
       "\n",
       "    .dataframe tbody tr th {\n",
       "        vertical-align: top;\n",
       "    }\n",
       "\n",
       "    .dataframe thead th {\n",
       "        text-align: right;\n",
       "    }\n",
       "</style>\n",
       "<table border=\"1\" class=\"dataframe\">\n",
       "  <thead>\n",
       "    <tr style=\"text-align: right;\">\n",
       "      <th></th>\n",
       "      <th>Medida</th>\n",
       "      <th>Anchura del cráneo</th>\n",
       "    </tr>\n",
       "  </thead>\n",
       "  <tbody>\n",
       "    <tr>\n",
       "      <th>0</th>\n",
       "      <td>count</td>\n",
       "      <td>30.000000</td>\n",
       "    </tr>\n",
       "    <tr>\n",
       "      <th>1</th>\n",
       "      <td>mean</td>\n",
       "      <td>131.533333</td>\n",
       "    </tr>\n",
       "    <tr>\n",
       "      <th>2</th>\n",
       "      <td>std</td>\n",
       "      <td>0.819307</td>\n",
       "    </tr>\n",
       "    <tr>\n",
       "      <th>3</th>\n",
       "      <td>min</td>\n",
       "      <td>130.000000</td>\n",
       "    </tr>\n",
       "    <tr>\n",
       "      <th>4</th>\n",
       "      <td>25%</td>\n",
       "      <td>131.000000</td>\n",
       "    </tr>\n",
       "    <tr>\n",
       "      <th>5</th>\n",
       "      <td>50%</td>\n",
       "      <td>131.500000</td>\n",
       "    </tr>\n",
       "    <tr>\n",
       "      <th>6</th>\n",
       "      <td>75%</td>\n",
       "      <td>132.000000</td>\n",
       "    </tr>\n",
       "    <tr>\n",
       "      <th>7</th>\n",
       "      <td>max</td>\n",
       "      <td>134.000000</td>\n",
       "    </tr>\n",
       "    <tr>\n",
       "      <th>8</th>\n",
       "      <td>moda</td>\n",
       "      <td>131.000000</td>\n",
       "    </tr>\n",
       "    <tr>\n",
       "      <th>9</th>\n",
       "      <td>rango</td>\n",
       "      <td>4.000000</td>\n",
       "    </tr>\n",
       "    <tr>\n",
       "      <th>10</th>\n",
       "      <td>varianza</td>\n",
       "      <td>0.671264</td>\n",
       "    </tr>\n",
       "    <tr>\n",
       "      <th>11</th>\n",
       "      <td>CoeficientePerson</td>\n",
       "      <td>0.006229</td>\n",
       "    </tr>\n",
       "    <tr>\n",
       "      <th>12</th>\n",
       "      <td>CoeficienteFisher</td>\n",
       "      <td>0.645941</td>\n",
       "    </tr>\n",
       "    <tr>\n",
       "      <th>13</th>\n",
       "      <td>CoeficienteCurtosis</td>\n",
       "      <td>1.160893</td>\n",
       "    </tr>\n",
       "  </tbody>\n",
       "</table>\n",
       "</div>"
      ],
      "text/plain": [
       "                 Medida  Anchura del cráneo\n",
       "0                 count           30.000000\n",
       "1                  mean          131.533333\n",
       "2                   std            0.819307\n",
       "3                   min          130.000000\n",
       "4                   25%          131.000000\n",
       "5                   50%          131.500000\n",
       "6                   75%          132.000000\n",
       "7                   max          134.000000\n",
       "8                  moda          131.000000\n",
       "9                 rango            4.000000\n",
       "10             varianza            0.671264\n",
       "11    CoeficientePerson            0.006229\n",
       "12    CoeficienteFisher            0.645941\n",
       "13  CoeficienteCurtosis            1.160893"
      ]
     },
     "execution_count": 34,
     "metadata": {},
     "output_type": "execute_result"
    }
   ],
   "source": [
    "#Unimos los dos dataframe con las medidas correspondientes para mostrarlo en uno solo\n",
    "#con  esto la sigeuinte tabla muestra la totalidad de elementos corrspondeintes a medidas de tendencia central, no central, \n",
    "#forma , variabiliad \n",
    "valores_moda_1 = pd.concat([valores_1,medidas_moda_1],ignore_index=True)\n",
    "valores_moda_1"
   ]
  },
  {
   "cell_type": "code",
   "execution_count": 35,
   "id": "5a90b4b5",
   "metadata": {},
   "outputs": [
    {
     "data": {
      "text/html": [
       "<div>\n",
       "<style scoped>\n",
       "    .dataframe tbody tr th:only-of-type {\n",
       "        vertical-align: middle;\n",
       "    }\n",
       "\n",
       "    .dataframe tbody tr th {\n",
       "        vertical-align: top;\n",
       "    }\n",
       "\n",
       "    .dataframe thead th {\n",
       "        text-align: right;\n",
       "    }\n",
       "</style>\n",
       "<table border=\"1\" class=\"dataframe\">\n",
       "  <thead>\n",
       "    <tr style=\"text-align: right;\">\n",
       "      <th></th>\n",
       "      <th>Medida</th>\n",
       "      <th>Anchura del cráneo</th>\n",
       "    </tr>\n",
       "  </thead>\n",
       "  <tbody>\n",
       "    <tr>\n",
       "      <th>0</th>\n",
       "      <td>count</td>\n",
       "      <td>30.000000</td>\n",
       "    </tr>\n",
       "    <tr>\n",
       "      <th>1</th>\n",
       "      <td>mean</td>\n",
       "      <td>131.533333</td>\n",
       "    </tr>\n",
       "    <tr>\n",
       "      <th>2</th>\n",
       "      <td>std</td>\n",
       "      <td>0.819307</td>\n",
       "    </tr>\n",
       "    <tr>\n",
       "      <th>3</th>\n",
       "      <td>min</td>\n",
       "      <td>130.000000</td>\n",
       "    </tr>\n",
       "    <tr>\n",
       "      <th>4</th>\n",
       "      <td>25%</td>\n",
       "      <td>131.000000</td>\n",
       "    </tr>\n",
       "    <tr>\n",
       "      <th>5</th>\n",
       "      <td>50%</td>\n",
       "      <td>131.500000</td>\n",
       "    </tr>\n",
       "    <tr>\n",
       "      <th>6</th>\n",
       "      <td>75%</td>\n",
       "      <td>132.000000</td>\n",
       "    </tr>\n",
       "    <tr>\n",
       "      <th>7</th>\n",
       "      <td>max</td>\n",
       "      <td>134.000000</td>\n",
       "    </tr>\n",
       "    <tr>\n",
       "      <th>8</th>\n",
       "      <td>moda</td>\n",
       "      <td>131.000000</td>\n",
       "    </tr>\n",
       "    <tr>\n",
       "      <th>9</th>\n",
       "      <td>rango</td>\n",
       "      <td>4.000000</td>\n",
       "    </tr>\n",
       "    <tr>\n",
       "      <th>10</th>\n",
       "      <td>varianza</td>\n",
       "      <td>0.671264</td>\n",
       "    </tr>\n",
       "    <tr>\n",
       "      <th>11</th>\n",
       "      <td>CoeficientePerson</td>\n",
       "      <td>0.006229</td>\n",
       "    </tr>\n",
       "    <tr>\n",
       "      <th>12</th>\n",
       "      <td>CoeficienteFisher</td>\n",
       "      <td>0.645941</td>\n",
       "    </tr>\n",
       "    <tr>\n",
       "      <th>13</th>\n",
       "      <td>CoeficienteCurtosis</td>\n",
       "      <td>1.160893</td>\n",
       "    </tr>\n",
       "  </tbody>\n",
       "</table>\n",
       "</div>"
      ],
      "text/plain": [
       "                 Medida  Anchura del cráneo\n",
       "0                 count           30.000000\n",
       "1                  mean          131.533333\n",
       "2                   std            0.819307\n",
       "3                   min          130.000000\n",
       "4                   25%          131.000000\n",
       "5                   50%          131.500000\n",
       "6                   75%          132.000000\n",
       "7                   max          134.000000\n",
       "8                  moda          131.000000\n",
       "9                 rango            4.000000\n",
       "10             varianza            0.671264\n",
       "11    CoeficientePerson            0.006229\n",
       "12    CoeficienteFisher            0.645941\n",
       "13  CoeficienteCurtosis            1.160893"
      ]
     },
     "execution_count": 35,
     "metadata": {},
     "output_type": "execute_result"
    }
   ],
   "source": [
    "valores_moda_2 = pd.concat([valores_1,medidas_moda_1],ignore_index=True)\n",
    "valores_moda_2"
   ]
  },
  {
   "cell_type": "code",
   "execution_count": 36,
   "id": "9fcf1651",
   "metadata": {},
   "outputs": [
    {
     "data": {
      "image/png": "[encoded data removed]",
      "text/plain": [
       "<Figure size 500x500 with 1 Axes>"
      ]
     },
     "metadata": {},
     "output_type": "display_data"
    }
   ],
   "source": [
    "sns.catplot(data = df_1 ,  y='Anchura del cráneo' , col ='Época histórica' , kind = 'box', color='skyblue',medianprops={'color':'red'} )\n",
    "plt.show()"
   ]
  },
  {
   "cell_type": "code",
   "execution_count": 152,
   "id": "d0961877",
   "metadata": {},
   "outputs": [],
   "source": [
    "#del grafico de diagrama y bigotes, obseramos dos cosas muy notables\n",
    "# la primera es que se evidencian dos valores atipicos en la muestra - etos son 132-137, alejados de la media\n",
    "#ademas que la mediana coincide con el quartil25% por lo que podemos comentar que  hay una gran repitencia del valor 34\n",
    "#el 25% de los craneos del periodo temprano poseen una Anchura de 134 cm"
   ]
  },
  {
   "cell_type": "markdown",
   "id": "d72d3a2c",
   "metadata": {},
   "source": [
    "MEDIDAS DE TENDENCIA CENTRAL - NO CENTRAL - DISPERSION - FORMA - PREDINASTICO TARDIO"
   ]
  },
  {
   "cell_type": "code",
   "execution_count": 37,
   "id": "e91729e1",
   "metadata": {},
   "outputs": [],
   "source": [
    "#obtencion de algunos de las medidas de tendencia central y no central, calcularemos el resto a continuacion\n",
    "valores_2 = pd.DataFrame(df_2['Anchura del cráneo'].describe())\n",
    "valores_2.reset_index(inplace=True)\n",
    "valores_2.rename(columns={'index':'Medida'},inplace = True)"
   ]
  },
  {
   "cell_type": "code",
   "execution_count": 38,
   "id": "68fb4529",
   "metadata": {},
   "outputs": [
    {
     "data": {
      "text/html": [
       "<div>\n",
       "<style scoped>\n",
       "    .dataframe tbody tr th:only-of-type {\n",
       "        vertical-align: middle;\n",
       "    }\n",
       "\n",
       "    .dataframe tbody tr th {\n",
       "        vertical-align: top;\n",
       "    }\n",
       "\n",
       "    .dataframe thead th {\n",
       "        text-align: right;\n",
       "    }\n",
       "</style>\n",
       "<table border=\"1\" class=\"dataframe\">\n",
       "  <thead>\n",
       "    <tr style=\"text-align: right;\">\n",
       "      <th></th>\n",
       "      <th>Medida</th>\n",
       "      <th>Anchura del cráneo</th>\n",
       "    </tr>\n",
       "  </thead>\n",
       "  <tbody>\n",
       "    <tr>\n",
       "      <th>0</th>\n",
       "      <td>count</td>\n",
       "      <td>30.000000</td>\n",
       "    </tr>\n",
       "    <tr>\n",
       "      <th>1</th>\n",
       "      <td>mean</td>\n",
       "      <td>132.466667</td>\n",
       "    </tr>\n",
       "    <tr>\n",
       "      <th>2</th>\n",
       "      <td>std</td>\n",
       "      <td>1.008014</td>\n",
       "    </tr>\n",
       "    <tr>\n",
       "      <th>3</th>\n",
       "      <td>min</td>\n",
       "      <td>131.000000</td>\n",
       "    </tr>\n",
       "    <tr>\n",
       "      <th>4</th>\n",
       "      <td>25%</td>\n",
       "      <td>132.000000</td>\n",
       "    </tr>\n",
       "  </tbody>\n",
       "</table>\n",
       "</div>"
      ],
      "text/plain": [
       "  Medida  Anchura del cráneo\n",
       "0  count           30.000000\n",
       "1   mean          132.466667\n",
       "2    std            1.008014\n",
       "3    min          131.000000\n",
       "4    25%          132.000000"
      ]
     },
     "execution_count": 38,
     "metadata": {},
     "output_type": "execute_result"
    }
   ],
   "source": [
    "valores_2.head(5)"
   ]
  },
  {
   "cell_type": "code",
   "execution_count": 39,
   "id": "8c2a9d26",
   "metadata": {},
   "outputs": [],
   "source": [
    "#calculo de la moda para grupo 2 (tardio)\n",
    "moda_2  = int(df_2['Anchura del cráneo'].mode())"
   ]
  },
  {
   "cell_type": "code",
   "execution_count": 40,
   "id": "af433f94",
   "metadata": {},
   "outputs": [],
   "source": [
    "#calculo del rango (valor maximo - valor minimo)\n",
    "rango_2 = df_2['Anchura del cráneo'].max() - df_2['Anchura del cráneo'].min()"
   ]
  },
  {
   "cell_type": "code",
   "execution_count": 41,
   "id": "622fa1f7",
   "metadata": {},
   "outputs": [],
   "source": [
    "#calculo de la varianza\n",
    "varianza_2 = df_2['Anchura del cráneo'].var()"
   ]
  },
  {
   "cell_type": "code",
   "execution_count": 42,
   "id": "91e9a19d",
   "metadata": {},
   "outputs": [],
   "source": [
    "#calculo del coeficiente de variacion de Pearson -- DESVIACION STANDAR / MEDIA\n",
    "coef_var_P_2 = valores_2.loc[2][1]/valores_2.loc[1][1]"
   ]
  },
  {
   "cell_type": "code",
   "execution_count": 43,
   "id": "bbcbf721",
   "metadata": {},
   "outputs": [],
   "source": [
    "df_2['Xi - Media'] = df_2['Anchura del cráneo'] - valores_2.loc[1][1]\n",
    "df_2['(Xi - Media)*3'] = df_2['Xi - Media']**3\n",
    "df_2['(Xi - Media)*4'] = df_2['Xi - Media']**4\n",
    "#Generacion de columnas de apoyo para el calculo de asimetria y curtosis // resultando en la siguiente tabla"
   ]
  },
  {
   "cell_type": "code",
   "execution_count": 44,
   "id": "83d42ab5",
   "metadata": {},
   "outputs": [
    {
     "data": {
      "text/html": [
       "<div>\n",
       "<style scoped>\n",
       "    .dataframe tbody tr th:only-of-type {\n",
       "        vertical-align: middle;\n",
       "    }\n",
       "\n",
       "    .dataframe tbody tr th {\n",
       "        vertical-align: top;\n",
       "    }\n",
       "\n",
       "    .dataframe thead th {\n",
       "        text-align: right;\n",
       "    }\n",
       "</style>\n",
       "<table border=\"1\" class=\"dataframe\">\n",
       "  <thead>\n",
       "    <tr style=\"text-align: right;\">\n",
       "      <th></th>\n",
       "      <th>Época histórica</th>\n",
       "      <th>Anchura del cráneo</th>\n",
       "      <th>Xi - Media</th>\n",
       "      <th>(Xi - Media)*3</th>\n",
       "      <th>(Xi - Media)*4</th>\n",
       "    </tr>\n",
       "  </thead>\n",
       "  <tbody>\n",
       "    <tr>\n",
       "      <th>30</th>\n",
       "      <td>2</td>\n",
       "      <td>132</td>\n",
       "      <td>-0.466667</td>\n",
       "      <td>-0.101630</td>\n",
       "      <td>0.047427</td>\n",
       "    </tr>\n",
       "    <tr>\n",
       "      <th>31</th>\n",
       "      <td>2</td>\n",
       "      <td>133</td>\n",
       "      <td>0.533333</td>\n",
       "      <td>0.151704</td>\n",
       "      <td>0.080909</td>\n",
       "    </tr>\n",
       "    <tr>\n",
       "      <th>32</th>\n",
       "      <td>2</td>\n",
       "      <td>131</td>\n",
       "      <td>-1.466667</td>\n",
       "      <td>-3.154963</td>\n",
       "      <td>4.627279</td>\n",
       "    </tr>\n",
       "    <tr>\n",
       "      <th>33</th>\n",
       "      <td>2</td>\n",
       "      <td>133</td>\n",
       "      <td>0.533333</td>\n",
       "      <td>0.151704</td>\n",
       "      <td>0.080909</td>\n",
       "    </tr>\n",
       "    <tr>\n",
       "      <th>34</th>\n",
       "      <td>2</td>\n",
       "      <td>133</td>\n",
       "      <td>0.533333</td>\n",
       "      <td>0.151704</td>\n",
       "      <td>0.080909</td>\n",
       "    </tr>\n",
       "  </tbody>\n",
       "</table>\n",
       "</div>"
      ],
      "text/plain": [
       "    Época histórica  Anchura del cráneo  Xi - Media  (Xi - Media)*3  \\\n",
       "30                2                 132   -0.466667       -0.101630   \n",
       "31                2                 133    0.533333        0.151704   \n",
       "32                2                 131   -1.466667       -3.154963   \n",
       "33                2                 133    0.533333        0.151704   \n",
       "34                2                 133    0.533333        0.151704   \n",
       "\n",
       "    (Xi - Media)*4  \n",
       "30        0.047427  \n",
       "31        0.080909  \n",
       "32        4.627279  \n",
       "33        0.080909  \n",
       "34        0.080909  "
      ]
     },
     "execution_count": 44,
     "metadata": {},
     "output_type": "execute_result"
    }
   ],
   "source": [
    "df_2.head(5)"
   ]
  },
  {
   "cell_type": "code",
   "execution_count": 45,
   "id": "01cfd232",
   "metadata": {},
   "outputs": [],
   "source": [
    "Coef_Fisher_2=df_2['(Xi - Media)*3'].sum()/((df_2['Época histórica'].count()-1)*mt.pow(valores_2.loc[2][1],3))"
   ]
  },
  {
   "cell_type": "code",
   "execution_count": 47,
   "id": "7936cfeb",
   "metadata": {},
   "outputs": [
    {
     "data": {
      "text/plain": [
       "0.1918262295493577"
      ]
     },
     "execution_count": 47,
     "metadata": {},
     "output_type": "execute_result"
    }
   ],
   "source": [
    "Coef_Fisher_2\n",
    "# al obteenr un ceficiente de Fisher positivo, esto indica que existe una mayor concentracion de valores a la derecha del eje\n",
    "# de simetria"
   ]
  },
  {
   "cell_type": "code",
   "execution_count": 48,
   "id": "a2e1a00a",
   "metadata": {},
   "outputs": [],
   "source": [
    "coeficiente_Curtosis_2 = df_2['(Xi - Media)*4'].sum()/((df_2['Época histórica'].count()-1)*mt.pow(valores_2.loc[2][1],4)) -3"
   ]
  },
  {
   "cell_type": "code",
   "execution_count": 50,
   "id": "9b7cac56",
   "metadata": {},
   "outputs": [
    {
     "data": {
      "text/plain": [
       "-0.2800290739337874"
      ]
     },
     "execution_count": 50,
     "metadata": {},
     "output_type": "execute_result"
    }
   ],
   "source": [
    "coeficiente_Curtosis_2\n",
    "#el coeficiente de curtosis es menos que 0 por lo que podemos anticipar una distribucion platicurtica"
   ]
  },
  {
   "cell_type": "code",
   "execution_count": 51,
   "id": "d0c9b6bb",
   "metadata": {},
   "outputs": [
    {
     "data": {
      "image/png": "[encoded data removed]",
      "text/plain": [
       "<Figure size 640x480 with 1 Axes>"
      ]
     },
     "metadata": {},
     "output_type": "display_data"
    }
   ],
   "source": [
    "sns.histplot(data=df_2['Anchura del cráneo'] )\n",
    "plt.axvline(x=valores_2.loc[5][1], color='red', linestyle='--')\n",
    "plt.title('Histograma - Periodo Tardio')\n",
    "plt.show()"
   ]
  },
  {
   "cell_type": "code",
   "execution_count": 166,
   "id": "12d2923b",
   "metadata": {},
   "outputs": [],
   "source": [
    "#de los coeficientes de FISHER Y CURTOSIS podemos determinar que\n",
    "#del coeficinete de Fisher [-0.1823], la distribucion posee mayor concentracion de valores a la izquierda de  la mediana\n",
    "#ademas el coeficiente de curtosis al ser menor que 0 [-0.6968] nos indica una distribucion platicurtica valores menos\n",
    "#concentrados en la media a comparacion de la distribucion normal y mas distribuidos en las colas\n",
    "\n",
    "#colocamos el histograma y una linea constante en la mediana, para observar el comportmiento-forma de la distribucion.\n",
    "#la interpretacion del histograma es que la mediana coincide con la moda que es de 133. \n",
    "#por tanto al comparar las otras frecuencias, encontramos una mayor cantidad de valores a la izquierda indicando una \n",
    "#asimetria negativa"
   ]
  },
  {
   "cell_type": "code",
   "execution_count": 53,
   "id": "fc7fd1a8",
   "metadata": {},
   "outputs": [
    {
     "data": {
      "text/html": [
       "<div>\n",
       "<style scoped>\n",
       "    .dataframe tbody tr th:only-of-type {\n",
       "        vertical-align: middle;\n",
       "    }\n",
       "\n",
       "    .dataframe tbody tr th {\n",
       "        vertical-align: top;\n",
       "    }\n",
       "\n",
       "    .dataframe thead th {\n",
       "        text-align: right;\n",
       "    }\n",
       "</style>\n",
       "<table border=\"1\" class=\"dataframe\">\n",
       "  <thead>\n",
       "    <tr style=\"text-align: right;\">\n",
       "      <th></th>\n",
       "      <th>Medida</th>\n",
       "      <th>Anchura del cráneo</th>\n",
       "    </tr>\n",
       "  </thead>\n",
       "  <tbody>\n",
       "    <tr>\n",
       "      <th>0</th>\n",
       "      <td>moda</td>\n",
       "      <td>133.000000</td>\n",
       "    </tr>\n",
       "    <tr>\n",
       "      <th>1</th>\n",
       "      <td>rango</td>\n",
       "      <td>4.000000</td>\n",
       "    </tr>\n",
       "    <tr>\n",
       "      <th>2</th>\n",
       "      <td>varianza</td>\n",
       "      <td>1.016092</td>\n",
       "    </tr>\n",
       "    <tr>\n",
       "      <th>3</th>\n",
       "      <td>CoeficientePerson</td>\n",
       "      <td>0.007610</td>\n",
       "    </tr>\n",
       "    <tr>\n",
       "      <th>4</th>\n",
       "      <td>CoeficienteFisher</td>\n",
       "      <td>0.191826</td>\n",
       "    </tr>\n",
       "    <tr>\n",
       "      <th>5</th>\n",
       "      <td>CoeficienteCurtosis</td>\n",
       "      <td>-0.280029</td>\n",
       "    </tr>\n",
       "  </tbody>\n",
       "</table>\n",
       "</div>"
      ],
      "text/plain": [
       "                Medida  Anchura del cráneo\n",
       "0                 moda          133.000000\n",
       "1                rango            4.000000\n",
       "2             varianza            1.016092\n",
       "3    CoeficientePerson            0.007610\n",
       "4    CoeficienteFisher            0.191826\n",
       "5  CoeficienteCurtosis           -0.280029"
      ]
     },
     "execution_count": 53,
     "metadata": {},
     "output_type": "execute_result"
    }
   ],
   "source": [
    "Medida_2 = ['moda','rango','varianza','CoeficientePerson','CoeficienteFisher','CoeficienteCurtosis']\n",
    "Anchura_del_Craneo_2 = [moda_2,rango_2, varianza_2,coef_var_P_2,Coef_Fisher_2,coeficiente_Curtosis_2]\n",
    "\n",
    "medidas_2 = pd.DataFrame({'Medida':Medida_2,'Anchura del cráneo':Anchura_del_Craneo_2})\n",
    "medidas_2"
   ]
  },
  {
   "cell_type": "markdown",
   "id": "676e0b21",
   "metadata": {},
   "source": [
    "MEDIDAS PERIODO TRARDIO"
   ]
  },
  {
   "cell_type": "code",
   "execution_count": 54,
   "id": "17e394ec",
   "metadata": {
    "scrolled": false
   },
   "outputs": [
    {
     "data": {
      "text/html": [
       "<div>\n",
       "<style scoped>\n",
       "    .dataframe tbody tr th:only-of-type {\n",
       "        vertical-align: middle;\n",
       "    }\n",
       "\n",
       "    .dataframe tbody tr th {\n",
       "        vertical-align: top;\n",
       "    }\n",
       "\n",
       "    .dataframe thead th {\n",
       "        text-align: right;\n",
       "    }\n",
       "</style>\n",
       "<table border=\"1\" class=\"dataframe\">\n",
       "  <thead>\n",
       "    <tr style=\"text-align: right;\">\n",
       "      <th></th>\n",
       "      <th>Medida</th>\n",
       "      <th>Anchura del cráneo</th>\n",
       "    </tr>\n",
       "  </thead>\n",
       "  <tbody>\n",
       "    <tr>\n",
       "      <th>0</th>\n",
       "      <td>count</td>\n",
       "      <td>30.000000</td>\n",
       "    </tr>\n",
       "    <tr>\n",
       "      <th>1</th>\n",
       "      <td>mean</td>\n",
       "      <td>132.466667</td>\n",
       "    </tr>\n",
       "    <tr>\n",
       "      <th>2</th>\n",
       "      <td>std</td>\n",
       "      <td>1.008014</td>\n",
       "    </tr>\n",
       "    <tr>\n",
       "      <th>3</th>\n",
       "      <td>min</td>\n",
       "      <td>131.000000</td>\n",
       "    </tr>\n",
       "    <tr>\n",
       "      <th>4</th>\n",
       "      <td>25%</td>\n",
       "      <td>132.000000</td>\n",
       "    </tr>\n",
       "    <tr>\n",
       "      <th>5</th>\n",
       "      <td>50%</td>\n",
       "      <td>133.000000</td>\n",
       "    </tr>\n",
       "    <tr>\n",
       "      <th>6</th>\n",
       "      <td>75%</td>\n",
       "      <td>133.000000</td>\n",
       "    </tr>\n",
       "    <tr>\n",
       "      <th>7</th>\n",
       "      <td>max</td>\n",
       "      <td>135.000000</td>\n",
       "    </tr>\n",
       "    <tr>\n",
       "      <th>8</th>\n",
       "      <td>moda</td>\n",
       "      <td>133.000000</td>\n",
       "    </tr>\n",
       "    <tr>\n",
       "      <th>9</th>\n",
       "      <td>rango</td>\n",
       "      <td>4.000000</td>\n",
       "    </tr>\n",
       "    <tr>\n",
       "      <th>10</th>\n",
       "      <td>varianza</td>\n",
       "      <td>1.016092</td>\n",
       "    </tr>\n",
       "    <tr>\n",
       "      <th>11</th>\n",
       "      <td>CoeficientePerson</td>\n",
       "      <td>0.007610</td>\n",
       "    </tr>\n",
       "    <tr>\n",
       "      <th>12</th>\n",
       "      <td>CoeficienteFisher</td>\n",
       "      <td>0.191826</td>\n",
       "    </tr>\n",
       "    <tr>\n",
       "      <th>13</th>\n",
       "      <td>CoeficienteCurtosis</td>\n",
       "      <td>-0.280029</td>\n",
       "    </tr>\n",
       "  </tbody>\n",
       "</table>\n",
       "</div>"
      ],
      "text/plain": [
       "                 Medida  Anchura del cráneo\n",
       "0                 count           30.000000\n",
       "1                  mean          132.466667\n",
       "2                   std            1.008014\n",
       "3                   min          131.000000\n",
       "4                   25%          132.000000\n",
       "5                   50%          133.000000\n",
       "6                   75%          133.000000\n",
       "7                   max          135.000000\n",
       "8                  moda          133.000000\n",
       "9                 rango            4.000000\n",
       "10             varianza            1.016092\n",
       "11    CoeficientePerson            0.007610\n",
       "12    CoeficienteFisher            0.191826\n",
       "13  CoeficienteCurtosis           -0.280029"
      ]
     },
     "execution_count": 54,
     "metadata": {},
     "output_type": "execute_result"
    }
   ],
   "source": [
    "valores_w_2 = pd.concat([valores_2,medidas_2],ignore_index=True)\n",
    "valores_w_2\n",
    "#uniremos los dos dataframe con las medidas correspondientes para mostrarlo en uno solo"
   ]
  },
  {
   "cell_type": "code",
   "execution_count": 55,
   "id": "2bd99d1a",
   "metadata": {},
   "outputs": [
    {
     "data": {
      "image/png": "[encoded data removed]",
      "text/plain": [
       "<Figure size 500x500 with 1 Axes>"
      ]
     },
     "metadata": {},
     "output_type": "display_data"
    }
   ],
   "source": [
    "sns.catplot(data = df_2 ,  y='Anchura del cráneo' , col ='Época histórica' , kind = 'box', color='skyblue',medianprops={'color':'red'} )\n",
    "plt.show()"
   ]
  },
  {
   "cell_type": "code",
   "execution_count": 170,
   "id": "7796dfd8",
   "metadata": {},
   "outputs": [],
   "source": [
    "#como vemos en el diagrama de caja para el periodo tardio, no se presentan datos atipicos\n",
    "#ademas parece que la mediana se encuentra en total armonia con el quartil 1 y 3. sin embargo el histograma mostrado nos inidca \n",
    "#que hay una ligera agruoacion de valores a la izquierda "
   ]
  },
  {
   "cell_type": "markdown",
   "id": "1bb7607c",
   "metadata": {},
   "source": [
    "COMPARATIVA DE LOS DIAGRAMAS DE CAJA PARA AMBOS PERIODOS"
   ]
  },
  {
   "cell_type": "code",
   "execution_count": 56,
   "id": "5d19876b",
   "metadata": {},
   "outputs": [
    {
     "data": {
      "image/png": "[encoded data removed]",
      "text/plain": [
       "<Figure size 1000x500 with 2 Axes>"
      ]
     },
     "metadata": {},
     "output_type": "display_data"
    }
   ],
   "source": [
    "sns.catplot(data = df ,  y='Anchura del cráneo' , col ='Época histórica' , kind = 'box', color='skyblue',medianprops={'color':'red'} )\n",
    "plt.show()"
   ]
  },
  {
   "cell_type": "code",
   "execution_count": 172,
   "id": "aa51fb11",
   "metadata": {},
   "outputs": [],
   "source": [
    "#DONDE PODEMOS DECIR QUE LA DISTRIBUCION 2 ES MAS SIMETRICA EN COMPARACION QUE LA 1 \n",
    "#ADEMAS QUE LA DISTRIBUCION 1 PRESENTA VALORE ATIPICOS"
   ]
  },
  {
   "cell_type": "markdown",
   "id": "6d14d83f",
   "metadata": {},
   "source": [
    "### Apartado b)"
   ]
  },
  {
   "cell_type": "code",
   "execution_count": 173,
   "id": "a4276dcd",
   "metadata": {},
   "outputs": [],
   "source": [
    "#Ho -> la distribucion 1-2 sigue una muestra normal \n",
    "#H1 -> La distribucion 1-2  no sigue una muestra normal"
   ]
  },
  {
   "cell_type": "code",
   "execution_count": 57,
   "id": "806c6693",
   "metadata": {},
   "outputs": [
    {
     "name": "stdout",
     "output_type": "stream",
     "text": [
      "Resultados de la submuestra 1:\n",
      "Estadístico: 0.2460415331404474, Valor p: 0.04379464338101191\n",
      "La submuestra 1 no sigue una distribución normal\n",
      "\n",
      "Resultados de la submuestra 2:\n",
      "Estadístico: 0.23809252465886277, Valor p: 0.055727049848177\n",
      "La submuestra 2 sigue una distribución normal\n"
     ]
    }
   ],
   "source": [
    "from scipy import stats\n",
    "import numpy as np\n",
    "from sklearn.preprocessing import StandardScaler\n",
    "\n",
    "# conversion de los df filtrado a np.array para aprovechar sus caracteristicas\n",
    "submuestra1 = np.array(df_1['Anchura del cráneo'])\n",
    "submuestra2 = np.array(df_2['Anchura del cráneo'])\n",
    "\n",
    "# Asegurarse de que las submuestras sean arreglos de una sola columna\n",
    "submuestra1 = submuestra1.reshape(-1, 1)\n",
    "submuestra2 = submuestra2.reshape(-1, 1)\n",
    "\n",
    "# Inicializar standarscaler de scktlearn\n",
    "scaler1 = StandardScaler()\n",
    "scaler2 = StandardScaler()\n",
    "\n",
    "# Normalizar las muestras\n",
    "submuestra1 = scaler1.fit_transform(submuestra1)\n",
    "submuestra2 = scaler2.fit_transform(submuestra2)\n",
    "\n",
    "#llevar las submuestras a matriz unidmensional\n",
    "submuestra1=submuestra1.flatten()\n",
    "submuestra2=submuestra2.flatten()\n",
    "\n",
    "# Aplicar la prueba de Kolmogorov-Smirnov\n",
    "statistic1, pvalue1 = stats.kstest(submuestra1, 'norm')\n",
    "statistic2, pvalue2 = stats.kstest(submuestra2, 'norm')\n",
    "\n",
    "# Imprimir los resultados\n",
    "print(\"Resultados de la submuestra 1:\")\n",
    "print(f\"Estadístico: {statistic1}, Valor p: {pvalue1}\")\n",
    "if pvalue1 > 0.05:\n",
    "    print(\"La submuestra 1 sigue una distribución normal\")\n",
    "else:\n",
    "    print(\"La submuestra 1 no sigue una distribución normal\")\n",
    "\n",
    "print(\"\\nResultados de la submuestra 2:\")\n",
    "print(f\"Estadístico: {statistic2}, Valor p: {pvalue2}\")\n",
    "if pvalue2 > 0.05:\n",
    "    print(\"La submuestra 2 sigue una distribución normal\")\n",
    "else:\n",
    "    print(\"La submuestra 2 no sigue una distribución normal\")\n"
   ]
  },
  {
   "cell_type": "code",
   "execution_count": 175,
   "id": "d8272606",
   "metadata": {},
   "outputs": [],
   "source": [
    "#COMENTARIOS DE LA PRUEBA DE KOLMOGROV\n",
    "\n",
    "#la muestra 1 posee un estadisrico de 0.2185 y segun la tabla para KMSV una muestra de 30 valores y un alfa = 0.05 el valor del \n",
    "#estadistico es 0.24170  por lo que  Dcalculado < Dtabla con lo que se acepta la hipotesis nula \n",
    "#por lo que a un intervalo de confianza de 95% no existe suficiente evidencia en contra para rechazar la Ho\n",
    "#tambien podemos determinar que el pvalor es 0.097 como este es mayor a alfa de  0.05 la Ho no puede ser rechazada\n",
    "#\n",
    "#\n",
    "#la muestra 2 posee un estadisrico de 0.2060 y segun la tabla para KMSV una muestra de 30 valores y un alfa = 0.05 el valor del \n",
    "#estadistico es 0.24170  por lo que  Dcalculado < Dtabla con lo que se acepta la hipotesis nula \n",
    "#por lo que a un intervalo de confianza de 95% no existe suficiente evidencia en contra para rechazar la Ho\n",
    "#tambien podemos determinar que el pvalor es 0.135 como este es mayor a alfa de  0.05 la Ho no puede ser rechazada\n"
   ]
  },
  {
   "cell_type": "markdown",
   "id": "6c87af1f",
   "metadata": {},
   "source": [
    "## Ejercicio 2\n",
    "a) Con los mismos datos del ejercicio anterior, obtener un intervalo de confianza (de nivel 0.9, de nivel 0.95 y de nivel 0.99) para la diferencia entre las medias de la anchura de la cabeza en ambos periodos históricos. Interpretar los resultados obtenidos y discutirlos en función del test de normalidad del ejercicio anterior. La interpretación debe ser rigurosa desde el punto de vista estadístico y también marcada por el story telling, es decir, comprensible desde el punto de vista de las variables respondiendo a la pregunta ¿en qué época la cabeza era más ancha?\n",
    "\n",
    "\n",
    "b) Utilizar el test t para contrastar la hipótesis de que ambas medias son iguales. Explicar qué condiciones se deben cumplir para poder aplicar ese contraste. Determinar si se cumplen. Admitiremos de forma natural la independencia entre ambas muestras, así que esa condición no hace falta comprobarla."
   ]
  },
  {
   "cell_type": "markdown",
   "id": "af011625",
   "metadata": {},
   "source": [
    "### Apartado a)\n"
   ]
  },
  {
   "cell_type": "code",
   "execution_count": 176,
   "id": "4dc5e3e7",
   "metadata": {},
   "outputs": [],
   "source": [
    "#abordaremos el intervalo de confianza para con los 3 nivels de confianza. \n",
    "\n",
    "#para esta prueba requerimos:\n",
    "#1.saber si las muesras son independientes - sin embargo el ejericico nos comenta que asumamos esta condicion\n",
    "#2.por otro lado sabemos que las varianzas poblacionales son desconocidas\n",
    "#3.ademas requerimos demostrar si las varianzas de las poblacionales son iguales o diferentes "
   ]
  },
  {
   "cell_type": "code",
   "execution_count": 177,
   "id": "0cdfc064",
   "metadata": {},
   "outputs": [],
   "source": [
    "#3. COMPROBACION SI LAS MUESTRAS POSEEN VARIANZAS POBLACIONALES IGUALES O DIFERENTES"
   ]
  },
  {
   "cell_type": "markdown",
   "id": "8dfb7f93",
   "metadata": {},
   "source": [
    "H0: Las muestras poseen varianzas poblacionales iguales        S1 = S2 \n",
    "\n",
    "H1: Las muestras poseen varianzas poblaciionales diferentes    S1 != S2"
   ]
  },
  {
   "cell_type": "code",
   "execution_count": 178,
   "id": "fc8c81cb",
   "metadata": {},
   "outputs": [],
   "source": [
    "#Para probar si las varianzas poblacionales son iguales o diferences, tomaremos un intervalor de confianza del 90%\n",
    "#ademas mencionar que esta prueba es de dos colas ya que estamos probando igualdad o diferencia\n",
    "#ademas tengamos presente que debido al test anterior definimos que ambas muesteras siguen una distribucion Normal"
   ]
  },
  {
   "cell_type": "code",
   "execution_count": 179,
   "id": "1f021d5e",
   "metadata": {},
   "outputs": [],
   "source": [
    "#dado que las muestras tiene 30 valores , los grados de libertad para ambos son 29 .\n",
    "#ademas alfa = 10% -- pero al ser una preuba de dos colas tomaremos alfa/2 para obtener los valores criticos de F. siendo 5%"
   ]
  },
  {
   "cell_type": "code",
   "execution_count": 67,
   "id": "58963f8b",
   "metadata": {},
   "outputs": [],
   "source": [
    "from scipy.stats import f\n",
    "\n",
    "gl1= valores_1.loc[0][1] - 1  #cantidad de elementos de la muestra1 - 1\n",
    "gl2= valores_2.loc[0][1] - 1  #cantidad de elementos de  la muestra 2 -1\n",
    "alfa_medios = 0.05"
   ]
  },
  {
   "cell_type": "code",
   "execution_count": 68,
   "id": "798aa936",
   "metadata": {},
   "outputs": [],
   "source": [
    "valor_tabla_f_derecha = f.ppf(1-alfa_medios,gl1,gl2)   #valor critico por la derecha de la curva F"
   ]
  },
  {
   "cell_type": "code",
   "execution_count": 69,
   "id": "788cffee",
   "metadata": {},
   "outputs": [],
   "source": [
    "valor_tabla_f_izquierda = 1/valor_tabla_f_derecha     #al tener el mismo numero de GL la inversa es el valor de la izquierda"
   ]
  },
  {
   "cell_type": "code",
   "execution_count": 70,
   "id": "e178b801",
   "metadata": {},
   "outputs": [
    {
     "name": "stdout",
     "output_type": "stream",
     "text": [
      "la zona de aprobacion de la H0 es: 0.5373999648406917 <F< 1.8608114354760754\n"
     ]
    }
   ],
   "source": [
    "print(\"la zona de aprobacion de la H0 es:\",valor_tabla_f_izquierda,\"<F<\",valor_tabla_f_derecha)"
   ]
  },
  {
   "cell_type": "code",
   "execution_count": 71,
   "id": "02e41912",
   "metadata": {},
   "outputs": [
    {
     "data": {
      "text/plain": [
       "0.6606334841628961"
      ]
     },
     "execution_count": 71,
     "metadata": {},
     "output_type": "execute_result"
    }
   ],
   "source": [
    "#calcularemos el estadistico de F que es las divicion de las desviaciones estandar de las muestras al cuadrado\n",
    "Fisher = mt.pow (valores_1.loc[2][1],2)/mt.pow(valores_2.loc[2][1],2)\n",
    "Fisher"
   ]
  },
  {
   "cell_type": "code",
   "execution_count": 72,
   "id": "15eeace0",
   "metadata": {},
   "outputs": [
    {
     "data": {
      "image/png": "[encoded data removed]",
      "text/plain": [
       "<Figure size 640x480 with 1 Axes>"
      ]
     },
     "metadata": {},
     "output_type": "display_data"
    }
   ],
   "source": [
    "import numpy as np\n",
    "import matplotlib.pyplot as plt\n",
    "from scipy.stats import f\n",
    "\n",
    "# Definir el rango de valores de F\n",
    "f_values = np.linspace(0.01, 5, 1000)\n",
    "\n",
    "# Calcular la distribución F\n",
    "f_distribucion = f.pdf(f_values, gl1, gl2)\n",
    "\n",
    "# Graficar la distribución F\n",
    "plt.plot(f_values, f_distribucion, label='Distribución F')\n",
    "\n",
    "# Graficar los valores críticos y el valor observado\n",
    "plt.vlines(valor_tabla_f_izquierda, 0, f.pdf(valor_tabla_f_izquierda, gl1, gl2), colors='r', label='Valor Crítico Inferior')\n",
    "plt.vlines(valor_tabla_f_derecha, 0, f.pdf(valor_tabla_f_derecha, gl1, gl2), colors='r', label='Valor Crítico Superior')\n",
    "plt.vlines(Fisher, 0, f.pdf(Fisher, gl1, gl2), colors='g', label='Valor Observado')\n",
    "\n",
    "# Configurar la leyenda y etiquetas\n",
    "plt.legend()\n",
    "plt.xlabel('Valor F')\n",
    "plt.ylabel('Densidad de Probabilidad')\n",
    "plt.title('Distribución F con valores críticos y valor observado')\n",
    "\n",
    "# Mostrar la gráfica\n",
    "plt.show()\n"
   ]
  },
  {
   "cell_type": "markdown",
   "id": "bc0ae219",
   "metadata": {},
   "source": [
    "De donde podemos decir que al estar el valro F dentro del intervalo de aceptacion, 0.5373 - 1.8308\n",
    "Con un nivel de significacia del 90%, no existe evidencia suficiente para rechazar la H0"
   ]
  },
  {
   "cell_type": "code",
   "execution_count": 186,
   "id": "4200d530",
   "metadata": {},
   "outputs": [],
   "source": [
    "#Ahora sabiendo que las muestras son independientes - Las varianzas Desconocias y ademas estas son Iguales Podemos\n",
    "#calcular de lleno el intervalor de confianza para la diferencua de Medias"
   ]
  },
  {
   "cell_type": "code",
   "execution_count": 64,
   "id": "b9f43356",
   "metadata": {},
   "outputs": [],
   "source": [
    "from scipy.stats import t\n",
    "\n",
    "diferencia_medias = valores_1.loc[1][1] - valores_2.loc[1][1]\n",
    "n1=valores_1.loc[0][1]\n",
    "n2=valores_2.loc[0][1]\n",
    "s1 = valores_1.loc[2][1]\n",
    "s2 = valores_2.loc[2][1]\n",
    "grados_libertad = n1+n2-2\n",
    "error_standar  = mt.sqrt((((n1*mt.pow(s1,2)+n2*mt.pow(s2,2))*((1/n1)+(1/n2)))/(grados_libertad)))\n",
    "#el error standar para la diferencia de medias, es el determinado ya que las varianzas poblacionales son desconocidas pero iguales\n",
    "\n",
    "intervalo_90 = stats.t.interval(0.90,grados_libertad,loc=diferencia_medias,scale=error_standar)\n",
    "intervalo_95 = stats.t.interval(0.95,grados_libertad,loc=diferencia_medias,scale=error_standar)\n",
    "intervalo_99 = stats.t.interval(0.99,grados_libertad,loc=diferencia_medias,scale=error_standar)"
   ]
  },
  {
   "cell_type": "code",
   "execution_count": 65,
   "id": "6065a5ad",
   "metadata": {},
   "outputs": [
    {
     "name": "stdout",
     "output_type": "stream",
     "text": [
      "los intervalos de confianza para la diferencia de medias con un 90% de confianza es: (-1.3365370178425788, -0.5301296488240955)\n",
      "--------------------------------------------------------------------------------------------------------------\n",
      "los intervalos de confianza para la diferencia de medias con un 95% de confianza es: (-1.4161777177709258, -0.4504889488957485)\n",
      "--------------------------------------------------------------------------------------------------------------\n",
      "los intervalos de confianza para la diferencia de medias con un 99% de confianza es: (-1.5757582313054241, -0.2909084353612502)\n"
     ]
    }
   ],
   "source": [
    "print(\"los intervalos de confianza para la diferencia de medias con un 90% de confianza es:\" ,intervalo_90)\n",
    "print(\"--------------------------------------------------------------------------------------------------------------\")\n",
    "print(\"los intervalos de confianza para la diferencia de medias con un 95% de confianza es:\" ,intervalo_95)\n",
    "print(\"--------------------------------------------------------------------------------------------------------------\")\n",
    "print(\"los intervalos de confianza para la diferencia de medias con un 99% de confianza es:\" ,intervalo_99)"
   ]
  },
  {
   "cell_type": "code",
   "execution_count": 189,
   "id": "74d0ef6e",
   "metadata": {},
   "outputs": [],
   "source": [
    "#como los intervalos para los 3 niveles de confianza determinados (90-95-99) el 0 no esta incluido en estos intervalos\n",
    "#como podemos ver en el resultado antrerior\n",
    "#lo que podemos mencionar en estos 3 casos ya que el valor 0 no esta incluido en los intervalos la difernecia entre las medias\n",
    "#es estadisticamente considerable y no puede atribuirse a aleatoridad \n",
    "#en otras palabras los craneos de ambas poblaciones son condiderablemente distintos, y el craneo del periodo temprano son mas\n",
    "#alargados que los craneos del periodo tardio"
   ]
  },
  {
   "cell_type": "markdown",
   "id": "9589ba34",
   "metadata": {},
   "source": [
    "b) Utilizar el test t para contrastar la hipótesis de que ambas medias son \n",
    "iguales. Explicar qué condiciones se deben cumplir para poder aplicar ese \n",
    "contraste. Determinar si se cumplen. Admitiremos de forma natural la \n",
    "independencia entre ambas muestras, así que esa condición no hace falta \n",
    "comprobarla.\n",
    "Observación: Quiero insistir en que debéis hacer el test t para la diferencia \n",
    "de medias aunque las condiciones no se cumplan. En ese caso discutir la \n",
    "validez de los resultados obtenidos"
   ]
  },
  {
   "cell_type": "code",
   "execution_count": 190,
   "id": "528693a9",
   "metadata": {},
   "outputs": [],
   "source": [
    "#para poder probar la diferencia de medias de dos poblaciones. debemos considerar que se deben cumplir 3 condiciones\n",
    "\n",
    "#1. Normalidad de los datos   (con la prueba de kolmogrov- smirnoy se probo que las muestrras siguen una Distribucion Normal)\n",
    "#2. Homogenidad de la varianza           (se demostro en el ejericio anterior que las varianzas son homogeneas con prueba F)\n",
    "#3. Independencia de las observaciones  (el ejericio nos exige que esta condicion ya se cumple)"
   ]
  },
  {
   "cell_type": "code",
   "execution_count": 73,
   "id": "bd398917",
   "metadata": {},
   "outputs": [],
   "source": [
    "#por lo que se cumplen todas las condiciones necesariaas para poder aplicar las pruebas de hipotesis para diferencia de medias"
   ]
  },
  {
   "cell_type": "markdown",
   "id": "1e67cc74",
   "metadata": {},
   "source": [
    "H0: las medias de ambas muestras son iguales --------- M0 = M1     \n",
    "H1: Las medias de ambas muestras son diferentes ------ M0 != M1"
   ]
  },
  {
   "cell_type": "code",
   "execution_count": 192,
   "id": "4ce1eddd",
   "metadata": {},
   "outputs": [],
   "source": [
    "#como tenemos una prueba de hipotrsis de comprobar si las medias son iguales o distintas, esta corresponde a una prueba de \n",
    "#dos colas \n",
    "\n",
    "#ademas consideraremos un intervalo de confianza del 95% por lo que el alfa sera 0.025 -- a cada lado de la curba \n",
    "\n",
    "#tambien tenemos los grados de libertad correspindeintes a N1 +N2 -2 "
   ]
  },
  {
   "cell_type": "code",
   "execution_count": 74,
   "id": "3d88a679",
   "metadata": {},
   "outputs": [
    {
     "name": "stdout",
     "output_type": "stream",
     "text": [
      "la zona de aceptacion para la prueba es : -2.0017174830120927 , 2.0017174830120923\n"
     ]
    }
   ],
   "source": [
    "#calcularemos los valores cirticos correspondeintes a la distribucion T \n",
    "\n",
    "alfa = 0.05\n",
    "alfa_medios = alfa/2\n",
    "\n",
    "lim_sup = t.ppf(1-alfa_medios,grados_libertad)\n",
    "lim_inf = t.ppf(alfa_medios,grados_libertad)\n",
    "\n",
    "print(\"la zona de aceptacion para la prueba es :\",lim_inf,\",\",lim_sup)"
   ]
  },
  {
   "cell_type": "markdown",
   "id": "1bca0004",
   "metadata": {},
   "source": [
    "#calculo del valor T \n",
    "\n",
    "t = (Mmuestral1 - Mmuestral2) - (Mpobalcional1 - Mpoblacional2) / Error Standr Estimado\n",
    "\n",
    "como sabemos estamos probando en la Ho que las MediasPoblacionales son iguales, asi que la diferencia de las Medias en la\n",
    "formula anterior es 0 --- (Mpobalcional1 - Mpoblacional2) = 0 \n",
    "\n",
    "quedandonos el T: \n",
    "\n",
    "t = (Mmuestral1 - Mmuestral2) / Error Standr Estimado\n",
    "\n",
    "teniendo estos valores ya listos, calcularemos el Tobservado"
   ]
  },
  {
   "cell_type": "code",
   "execution_count": 79,
   "id": "d3187b54",
   "metadata": {},
   "outputs": [
    {
     "name": "stdout",
     "output_type": "stream",
     "text": [
      "el valor critico de T es : -3.869299739267822\n"
     ]
    }
   ],
   "source": [
    "#calculo del error estandar, este error es el mismo del ejericcio anterior \n",
    "\n",
    "valor_critico =  float(diferencia_medias)/(error_standar)\n",
    "\n",
    "print(\"el valor critico de T es :\", valor_critico)"
   ]
  },
  {
   "cell_type": "code",
   "execution_count": 195,
   "id": "a00d745a",
   "metadata": {},
   "outputs": [],
   "source": [
    "#como observamos el valor critioc de T, no se encunetra dentro del intervalopara aceptar la Ho\n",
    "#observamos elgrafico que determinan"
   ]
  },
  {
   "cell_type": "code",
   "execution_count": 80,
   "id": "a7be0bed",
   "metadata": {},
   "outputs": [
    {
     "data": {
      "image/png": "[encoded data removed]",
      "text/plain": [
       "<Figure size 640x480 with 1 Axes>"
      ]
     },
     "metadata": {},
     "output_type": "display_data"
    }
   ],
   "source": [
    "import numpy as np\n",
    "import matplotlib.pyplot as plt\n",
    "from scipy.stats import t\n",
    "\n",
    "# Definir el rango de valores de t\n",
    "t_values = np.linspace(-6, 6, 1000)\n",
    "\n",
    "# Calcular la distribución t\n",
    "t_distribucion = t.pdf(t_values, grados_libertad)\n",
    "\n",
    "# Graficar la distribución t\n",
    "plt.plot(t_values, t_distribucion, label='Distribución t')\n",
    "\n",
    "# Graficar el valor crítico y el valor t observado\n",
    "plt.vlines(lim_inf, 0, t.pdf(lim_inf, grados_libertad), colors='r', label='Valor Crítico 0.025')\n",
    "plt.vlines(lim_sup, 0, t.pdf(lim_sup, grados_libertad), colors='r', label='Valor Crítico 0.950')\n",
    "\n",
    "plt.vlines(valor_critico, 0, t.pdf(valor_critico, grados_libertad), colors='g', label='Valor t Observado')\n",
    "\n",
    "# Configurar la leyenda y etiquetas\n",
    "plt.legend()\n",
    "plt.xlabel('Valor t')\n",
    "plt.ylabel('Densidad de Probabilidad')\n",
    "plt.title('Distribución t con valor crítico y valor t observado')\n",
    "\n",
    "plt.show()\n"
   ]
  },
  {
   "cell_type": "code",
   "execution_count": 82,
   "id": "a21188c0",
   "metadata": {},
   "outputs": [
    {
     "name": "stdout",
     "output_type": "stream",
     "text": [
      "El valor crítico de T es: -3.869299739267822\n"
     ]
    },
    {
     "data": {
      "image/png": "[encoded data removed]",
      "text/plain": [
       "<Figure size 640x480 with 1 Axes>"
      ]
     },
     "metadata": {},
     "output_type": "display_data"
    }
   ],
   "source": [
    "valor_critico = float(diferencia_medias) / error_standar\n",
    "\n",
    "print(\"El valor crítico de T es:\", valor_critico)\n",
    "\n",
    "# Definir el rango de valores de t\n",
    "t_values = np.linspace(-6, 6, 1000)\n",
    "\n",
    "# Calcular la distribución t\n",
    "t_distribucion = t.pdf(t_values, grados_libertad)\n",
    "\n",
    "# Graficar la distribución t\n",
    "plt.plot(t_values, t_distribucion, label='Distribución t')\n",
    "\n",
    "# Shade the regions corresponding to critical values\n",
    "plt.fill_between(t_values, 0, t_distribucion, where=(t_values < lim_inf) | (t_values > lim_sup), color='gray', alpha=0.3, label='Region Crítica')\n",
    "\n",
    "# Mark the observed t-value\n",
    "plt.scatter(valor_critico, t.pdf(valor_critico, grados_libertad), color='red', label='Valor t Observado')\n",
    "\n",
    "# Configurar la leyenda y etiquetas\n",
    "plt.legend()\n",
    "plt.xlabel('Valor t')\n",
    "plt.ylabel('Densidad de Probabilidad')\n",
    "plt.title('Distribución t con región crítica y valor t observado')\n",
    "\n",
    "plt.show()"
   ]
  },
  {
   "cell_type": "code",
   "execution_count": 197,
   "id": "40a9a0c4",
   "metadata": {},
   "outputs": [],
   "source": [
    "#Como observamos en la grafica el valor T critico se encunetra en la zona de rechazo de la H0,\n",
    "#por lo que podemos establecer que existe una diferencia significativa entre las medias de ambas poblaciones\n",
    "#estas diferencias ademas no se deben a un factor de aleatoridad, si no que estadisticamente podemos decir que ambas \n",
    "#muestras son diferentes \n",
    "\n",
    "# como vemos que el valor observado se encuentra a la derecha , podemos decir que : \n",
    "#el craneo de la muesrtra del periodo temprano son mas alargados que los craneos del periodo tardio "
   ]
  }
 ],
 "metadata": {
  "kernelspec": {
   "display_name": "Python 3 (ipykernel)",
   "language": "python",
   "name": "python3"
  },
  "language_info": {
   "codemirror_mode": {
    "name": "ipython",
    "version": 3
   },
   "file_extension": ".py",
   "mimetype": "text/x-python",
   "name": "python",
   "nbconvert_exporter": "python",
   "pygments_lexer": "ipython3",
   "version": "3.11.5"
  }
 },
 "nbformat": 4,
 "nbformat_minor": 5
}
